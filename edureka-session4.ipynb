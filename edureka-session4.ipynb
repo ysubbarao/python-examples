{
 "cells": [
  {
   "cell_type": "code",
   "execution_count": 3,
   "metadata": {},
   "outputs": [],
   "source": [
    "#factorial implementation\n",
    "import numpy as np"
   ]
  },
  {
   "cell_type": "code",
   "execution_count": 9,
   "metadata": {},
   "outputs": [
    {
     "name": "stdout",
     "output_type": "stream",
     "text": [
      "Enter number :7\n",
      "Given number factorial is  5040\n"
     ]
    }
   ],
   "source": [
    "num = int(input('Enter number :'))\n",
    "factorial =1\n",
    "if num < 0:\n",
    "    print('Number must be positive')\n",
    "elif num == 0:\n",
    "    print('Factorial number is 1')\n",
    "else:\n",
    "    for i in range(1,num+1):\n",
    "        factorial = factorial* i\n",
    "print('Given number factorial is ',factorial)       "
   ]
  },
  {
   "cell_type": "code",
   "execution_count": null,
   "metadata": {},
   "outputs": [],
   "source": []
  },
  {
   "cell_type": "code",
   "execution_count": 10,
   "metadata": {},
   "outputs": [],
   "source": [
    "arr = np.arange(10,100)"
   ]
  },
  {
   "cell_type": "code",
   "execution_count": 3,
   "metadata": {},
   "outputs": [
    {
     "name": "stdout",
     "output_type": "stream",
     "text": [
      "[10 11 12 13 14 15 16 17 18 19 20 21 22 23 24 25 26 27 28 29 30 31 32 33\n",
      " 34 35 36 37 38 39 40 41 42 43 44 45 46 47 48 49 50 51 52 53 54 55 56 57\n",
      " 58 59 60 61 62 63 64 65 66 67 68 69 70 71 72 73 74 75 76 77 78 79 80 81\n",
      " 82 83 84 85 86 87 88 89 90 91 92 93 94 95 96 97 98 99]\n"
     ]
    }
   ],
   "source": [
    "print(arr)"
   ]
  },
  {
   "cell_type": "code",
   "execution_count": 11,
   "metadata": {},
   "outputs": [],
   "source": [
    "#list wrapping\n"
   ]
  },
  {
   "cell_type": "code",
   "execution_count": 12,
   "metadata": {},
   "outputs": [
    {
     "name": "stdout",
     "output_type": "stream",
     "text": [
      "[1 2 3 4 5 6]\n"
     ]
    }
   ],
   "source": [
    "list1 =np.array([1,2,3,4,5,6])\n",
    "print(list1)"
   ]
  },
  {
   "cell_type": "code",
   "execution_count": 19,
   "metadata": {},
   "outputs": [
    {
     "name": "stdout",
     "output_type": "stream",
     "text": [
      "[[0. 0. 0. 0. 0.]\n",
      " [0. 0. 0. 0. 0.]\n",
      " [0. 0. 0. 0. 0.]\n",
      " [0. 0. 0. 0. 0.]\n",
      " [0. 0. 0. 0. 0.]]\n"
     ]
    }
   ],
   "source": [
    "# creating 5x5 zero arrays\n",
    "arr = np.zeros((5,5))\n",
    "print(arr)"
   ]
  },
  {
   "cell_type": "code",
   "execution_count": 27,
   "metadata": {},
   "outputs": [
    {
     "name": "stdout",
     "output_type": "stream",
     "text": [
      "[ 0.          2.22222222  4.44444444  6.66666667  8.88888889 11.11111111\n",
      " 13.33333333 15.55555556 17.77777778 20.        ]\n"
     ]
    }
   ],
   "source": [
    "# Creating linearly spaced vector\n",
    "vector= np.linspace(0, 20, 10)\n",
    "print(vector)"
   ]
  },
  {
   "cell_type": "code",
   "execution_count": 29,
   "metadata": {},
   "outputs": [
    {
     "name": "stdout",
     "output_type": "stream",
     "text": [
      "[1 2 3 4]\n"
     ]
    }
   ],
   "source": [
    "output1 = np.asarray(x)\n",
    "print(output1)"
   ]
  },
  {
   "cell_type": "code",
   "execution_count": 30,
   "metadata": {},
   "outputs": [
    {
     "name": "stdout",
     "output_type": "stream",
     "text": [
      "[1, 2, 3, 4]\n"
     ]
    }
   ],
   "source": [
    "output2 = np.ndarray(x)\n",
    "print(x)"
   ]
  },
  {
   "cell_type": "code",
   "execution_count": 37,
   "metadata": {},
   "outputs": [
    {
     "name": "stdout",
     "output_type": "stream",
     "text": [
      "[[[0. 0.]\n",
      "  [0. 0.]]\n",
      "\n",
      " [[0. 0.]\n",
      "  [0. 0.]]\n",
      "\n",
      " [[0. 0.]\n",
      "  [0. 0.]]]\n"
     ]
    }
   ],
   "source": [
    "#Converting linear array into 2x2x2 3D array\n",
    "arr = np.zeros(12)\n",
    "arr3d = arr.reshape(3,2,2)\n",
    "print(arr3d)"
   ]
  },
  {
   "cell_type": "code",
   "execution_count": 38,
   "metadata": {},
   "outputs": [
    {
     "name": "stdout",
     "output_type": "stream",
     "text": [
      "[0. 0. 0. 0. 0. 0. 0. 0.]\n"
     ]
    }
   ],
   "source": [
    "arr = np.zeros(8)\n",
    "arr3d = arr.reshape(2,2,2)\n",
    "arr = arr3d.ravel()\n",
    "print(arr)"
   ]
  },
  {
   "cell_type": "code",
   "execution_count": 43,
   "metadata": {},
   "outputs": [
    {
     "name": "stdout",
     "output_type": "stream",
     "text": [
      "[ 5  6  7  8  9 10 11 12 13 14 15 16 17 18 19 20 21 22 23 24 25 26 27 28\n",
      " 29 30 31 32 33 34 35 36 37 38 39 40 41 42 43 44 45 46 47 48 49]\n",
      "11\n"
     ]
    }
   ],
   "source": [
    "#array indexing\n",
    "arr = np.arange(5,50)\n",
    "print(arr)\n",
    "element = arr[6]\n",
    "print(element)"
   ]
  },
  {
   "cell_type": "code",
   "execution_count": 46,
   "metadata": {},
   "outputs": [
    {
     "name": "stdout",
     "output_type": "stream",
     "text": [
      "[ 6  8 10 12 14]\n"
     ]
    }
   ],
   "source": [
    "#array step   slice(start,stop & step)\n",
    "step =np.arange(20)\n",
    "array_slice = slice(1,10,2)\n",
    "element = arr[6]\n",
    "print(arr[array_slice])"
   ]
  },
  {
   "cell_type": "code",
   "execution_count": 47,
   "metadata": {},
   "outputs": [
    {
     "name": "stdout",
     "output_type": "stream",
     "text": [
      "[ 0  1  2  3  4  5  6  7  8  9 10 11 12 13 14 15 16 17 18 19]\n"
     ]
    }
   ],
   "source": [
    "arr = np.arange(20)\n",
    "print(arr)"
   ]
  },
  {
   "cell_type": "code",
   "execution_count": 48,
   "metadata": {},
   "outputs": [
    {
     "data": {
      "text/plain": [
       "array([ 2,  3,  4,  5,  6,  7,  8,  9, 10, 11, 12, 13, 14, 15, 16, 17, 18,\n",
       "       19])"
      ]
     },
     "execution_count": 48,
     "metadata": {},
     "output_type": "execute_result"
    }
   ],
   "source": [
    "arr[2:]"
   ]
  },
  {
   "cell_type": "code",
   "execution_count": 49,
   "metadata": {},
   "outputs": [
    {
     "data": {
      "text/plain": [
       "array([2, 3, 4, 5])"
      ]
     },
     "execution_count": 49,
     "metadata": {},
     "output_type": "execute_result"
    }
   ],
   "source": [
    "arr[2:6]"
   ]
  },
  {
   "cell_type": "code",
   "execution_count": 51,
   "metadata": {},
   "outputs": [
    {
     "data": {
      "text/plain": [
       "array([ 0,  1,  2,  3,  4,  5,  6,  7,  8,  9, 10, 11, 12, 13, 14])"
      ]
     },
     "execution_count": 51,
     "metadata": {},
     "output_type": "execute_result"
    }
   ],
   "source": [
    "#index lesser than 15\n",
    "arr[:15]"
   ]
  },
  {
   "cell_type": "code",
   "execution_count": 55,
   "metadata": {},
   "outputs": [
    {
     "name": "stdout",
     "output_type": "stream",
     "text": [
      "[[1 2]\n",
      " [5 6]]\n"
     ]
    }
   ],
   "source": [
    "arr = np.array([[1,2,3,4],[5,6,7,8],[9,0,1,3]])\n",
    "print(arr[0:2,0:2])"
   ]
  },
  {
   "cell_type": "code",
   "execution_count": 61,
   "metadata": {},
   "outputs": [
    {
     "name": "stdout",
     "output_type": "stream",
     "text": [
      "array : [[1 2 3]\n",
      " [4 5 6]\n",
      " [6 7 8]]\n",
      "\n",
      "Shape : (3, 3)\n",
      "ndim : 2\n",
      "itemsize: 4\n"
     ]
    }
   ],
   "source": [
    "#Numpy array Attributes\n",
    "arr = np.array([[1,2,3],[4,5,6],[6,7,8]])\n",
    "print('array :',arr)\n",
    "print('')\n",
    "print('Shape :',arr.shape)\n",
    "print('ndim :',arr.ndim)\n",
    "print('itemsize:',arr.itemsize)"
   ]
  },
  {
   "cell_type": "code",
   "execution_count": 62,
   "metadata": {},
   "outputs": [
    {
     "name": "stdout",
     "output_type": "stream",
     "text": [
      "[[770081472       669]\n",
      " [        0         0]\n",
      " [        1   5046341]]\n"
     ]
    }
   ],
   "source": [
    "# Creation routine\n",
    "x = np.empty([3,2],dtype=int)\n",
    "print(x)"
   ]
  },
  {
   "cell_type": "code",
   "execution_count": 63,
   "metadata": {},
   "outputs": [],
   "source": [
    "#Array creation routine\n",
    "x= np.zeros(5)"
   ]
  },
  {
   "cell_type": "code",
   "execution_count": 64,
   "metadata": {},
   "outputs": [
    {
     "name": "stdout",
     "output_type": "stream",
     "text": [
      "[0. 0. 0. 0. 0.]\n"
     ]
    }
   ],
   "source": [
    "print(x)"
   ]
  },
  {
   "cell_type": "code",
   "execution_count": 65,
   "metadata": {},
   "outputs": [],
   "source": [
    "#Reading and Writing files\n",
    "import os\n"
   ]
  },
  {
   "cell_type": "code",
   "execution_count": 67,
   "metadata": {},
   "outputs": [
    {
     "data": {
      "text/plain": [
       "'C:\\\\Users\\\\subbu\\\\Downloads'"
      ]
     },
     "execution_count": 67,
     "metadata": {},
     "output_type": "execute_result"
    }
   ],
   "source": [
    "os.getcwd()"
   ]
  },
  {
   "cell_type": "code",
   "execution_count": 72,
   "metadata": {},
   "outputs": [
    {
     "ename": "ValueError",
     "evalue": "Expected 1D or 2D array, got 0D array instead",
     "output_type": "error",
     "traceback": [
      "\u001b[1;31m---------------------------------------------------------------------------\u001b[0m",
      "\u001b[1;31mValueError\u001b[0m                                Traceback (most recent call last)",
      "\u001b[1;32m<ipython-input-72-f4acd0092bcf>\u001b[0m in \u001b[0;36m<module>\u001b[1;34m\u001b[0m\n\u001b[0;32m      1\u001b[0m \u001b[0mfile\u001b[0m \u001b[1;33m=\u001b[0m \u001b[0mnp\u001b[0m\u001b[1;33m.\u001b[0m\u001b[0mloadtxt\u001b[0m\u001b[1;33m(\u001b[0m\u001b[1;34m'C:\\\\Users\\\\subbu\\\\Downloads\\\\uan.txt'\u001b[0m\u001b[1;33m)\u001b[0m\u001b[1;33m\u001b[0m\u001b[1;33m\u001b[0m\u001b[0m\n\u001b[1;32m----> 2\u001b[1;33m \u001b[0mnp\u001b[0m\u001b[1;33m.\u001b[0m\u001b[0msavetxt\u001b[0m\u001b[1;33m(\u001b[0m\u001b[1;34m'C:\\\\Users\\\\subbu\\\\Downloads\\\\uan1.txt'\u001b[0m\u001b[1;33m,\u001b[0m\u001b[0mfile\u001b[0m\u001b[1;33m)\u001b[0m\u001b[1;33m\u001b[0m\u001b[1;33m\u001b[0m\u001b[0m\n\u001b[0m",
      "\u001b[1;32m<__array_function__ internals>\u001b[0m in \u001b[0;36msavetxt\u001b[1;34m(*args, **kwargs)\u001b[0m\n",
      "\u001b[1;32mC:\\ProgramData\\Anaconda3\\lib\\site-packages\\numpy\\lib\\npyio.py\u001b[0m in \u001b[0;36msavetxt\u001b[1;34m(fname, X, fmt, delimiter, newline, header, footer, comments, encoding)\u001b[0m\n\u001b[0;32m   1393\u001b[0m         \u001b[1;32mif\u001b[0m \u001b[0mX\u001b[0m\u001b[1;33m.\u001b[0m\u001b[0mndim\u001b[0m \u001b[1;33m==\u001b[0m \u001b[1;36m0\u001b[0m \u001b[1;32mor\u001b[0m \u001b[0mX\u001b[0m\u001b[1;33m.\u001b[0m\u001b[0mndim\u001b[0m \u001b[1;33m>\u001b[0m \u001b[1;36m2\u001b[0m\u001b[1;33m:\u001b[0m\u001b[1;33m\u001b[0m\u001b[1;33m\u001b[0m\u001b[0m\n\u001b[0;32m   1394\u001b[0m             raise ValueError(\n\u001b[1;32m-> 1395\u001b[1;33m                 \"Expected 1D or 2D array, got %dD array instead\" % X.ndim)\n\u001b[0m\u001b[0;32m   1396\u001b[0m         \u001b[1;32melif\u001b[0m \u001b[0mX\u001b[0m\u001b[1;33m.\u001b[0m\u001b[0mndim\u001b[0m \u001b[1;33m==\u001b[0m \u001b[1;36m1\u001b[0m\u001b[1;33m:\u001b[0m\u001b[1;33m\u001b[0m\u001b[1;33m\u001b[0m\u001b[0m\n\u001b[0;32m   1397\u001b[0m             \u001b[1;31m# Common case -- 1d array of numbers\u001b[0m\u001b[1;33m\u001b[0m\u001b[1;33m\u001b[0m\u001b[1;33m\u001b[0m\u001b[0m\n",
      "\u001b[1;31mValueError\u001b[0m: Expected 1D or 2D array, got 0D array instead"
     ]
    }
   ],
   "source": [
    "file = np.loadtxt('C:\\\\Users\\\\subbu\\\\Downloads\\\\uan.txt')\n",
    "np.savetxt('C:\\\\Users\\\\subbu\\\\Downloads\\\\uan1.txt',file)"
   ]
  },
  {
   "cell_type": "code",
   "execution_count": 73,
   "metadata": {},
   "outputs": [],
   "source": [
    "#Pandas\n"
   ]
  },
  {
   "cell_type": "code",
   "execution_count": 74,
   "metadata": {},
   "outputs": [],
   "source": [
    "#creating pands series"
   ]
  },
  {
   "cell_type": "code",
   "execution_count": 4,
   "metadata": {},
   "outputs": [
    {
     "name": "stdout",
     "output_type": "stream",
     "text": [
      "Series([], dtype: float64)\n"
     ]
    },
    {
     "name": "stderr",
     "output_type": "stream",
     "text": [
      "C:\\ProgramData\\Anaconda3\\lib\\site-packages\\ipykernel_launcher.py:2: DeprecationWarning: The default dtype for empty Series will be 'object' instead of 'float64' in a future version. Specify a dtype explicitly to silence this warning.\n",
      "  \n"
     ]
    }
   ],
   "source": [
    "import pandas as pd\n",
    "series = pd.Series()\n",
    "print(series)"
   ]
  },
  {
   "cell_type": "code",
   "execution_count": 76,
   "metadata": {},
   "outputs": [
    {
     "name": "stdout",
     "output_type": "stream",
     "text": [
      "0    10\n",
      "1    20\n",
      "2    30\n",
      "3    40\n",
      "4    50\n",
      "5    60\n",
      "6    70\n",
      "dtype: int32\n"
     ]
    }
   ],
   "source": [
    "arr = np.array([10,20,30,40,50,60,70])\n",
    "series = pd.Series(arr)\n",
    "print(series)"
   ]
  },
  {
   "cell_type": "code",
   "execution_count": 79,
   "metadata": {},
   "outputs": [
    {
     "name": "stdout",
     "output_type": "stream",
     "text": [
      "a    10\n",
      "b    20\n",
      "c    30\n",
      "dtype: int64\n"
     ]
    }
   ],
   "source": [
    "# Creating series from python dictonary\n",
    "data = {'a':10,'b':20,'c':30}\n",
    "series = pd.Series(data)\n",
    "print(series)"
   ]
  },
  {
   "cell_type": "code",
   "execution_count": 80,
   "metadata": {},
   "outputs": [
    {
     "name": "stdout",
     "output_type": "stream",
     "text": [
      "0    10\n",
      "1    20\n",
      "2    30\n",
      "3    40\n",
      "4    50\n",
      "dtype: int64\n"
     ]
    }
   ],
   "source": [
    "s = pd.Series([10,20,30,40,50])\n",
    "print(s)"
   ]
  },
  {
   "cell_type": "code",
   "execution_count": 81,
   "metadata": {},
   "outputs": [
    {
     "name": "stdout",
     "output_type": "stream",
     "text": [
      "1    20\n",
      "2    30\n",
      "3    40\n",
      "dtype: int64\n"
     ]
    }
   ],
   "source": [
    "print(s[1:4])"
   ]
  },
  {
   "cell_type": "code",
   "execution_count": 82,
   "metadata": {},
   "outputs": [
    {
     "name": "stdout",
     "output_type": "stream",
     "text": [
      "    0\n",
      "0  10\n",
      "1  20\n",
      "2  30\n",
      "3  40\n",
      "4  50\n"
     ]
    }
   ],
   "source": [
    "listx = [10,20,30,40,50]\n",
    "print(pd.DataFrame(listx))\n"
   ]
  },
  {
   "cell_type": "code",
   "execution_count": 84,
   "metadata": {},
   "outputs": [
    {
     "name": "stdout",
     "output_type": "stream",
     "text": [
      "    a   b\n",
      "0  10  20\n",
      "1  30  40\n",
      "2  50  70\n"
     ]
    }
   ],
   "source": [
    "data = [{'a':10,'b':20},{'a':30,'b':40},{'a':50,'b':70}]\n",
    "table = pd.DataFrame(data)\n",
    "print(table)"
   ]
  },
  {
   "cell_type": "code",
   "execution_count": 85,
   "metadata": {},
   "outputs": [
    {
     "name": "stdout",
     "output_type": "stream",
     "text": [
      "   one  two\n",
      "a  1.0    1\n",
      "b  2.0    2\n",
      "c  3.0    3\n",
      "d  4.0    4\n",
      "e  NaN    5\n"
     ]
    }
   ],
   "source": [
    "data= {'one':pd.Series([1,2,3,4],index = ['a','b','c','d']),\n",
    "       'two':pd.Series([1,2,3,4,5],index = ['a','b','c','d','e'])}\n",
    "table = pd.DataFrame(data)\n",
    "print(table)"
   ]
  },
  {
   "cell_type": "code",
   "execution_count": 87,
   "metadata": {},
   "outputs": [
    {
     "name": "stdout",
     "output_type": "stream",
     "text": [
      "   one  two  three\n",
      "a  1.0    1      1\n",
      "b  2.0    2      2\n",
      "c  3.0    3      3\n",
      "d  NaN    4      4\n"
     ]
    }
   ],
   "source": [
    "#To add extra dataframe to existing dataframe.\n",
    "data = {'one':pd.Series([1,2,3],index=['a','b','c']),\n",
    "        'two':pd.Series([1,2,3,4],index = ['a','b','c','d'])}\n",
    "table = pd.DataFrame(data)\n",
    "table['three']=pd.Series([1,2,3,4,5] ,index=['a','b','c','d','e'])\n",
    "print(table)"
   ]
  },
  {
   "cell_type": "code",
   "execution_count": 88,
   "metadata": {},
   "outputs": [
    {
     "name": "stdout",
     "output_type": "stream",
     "text": [
      "   one  two  three\n",
      "a  1.0    1      1\n",
      "b  2.0    2      2\n",
      "c  3.0    3      3\n",
      "d  NaN    4      4\n"
     ]
    }
   ],
   "source": [
    "table1 = table\n",
    "print(table1)"
   ]
  },
  {
   "cell_type": "code",
   "execution_count": 90,
   "metadata": {},
   "outputs": [
    {
     "name": "stdout",
     "output_type": "stream",
     "text": [
      "   two  three\n",
      "a    1      1\n",
      "b    2      2\n",
      "c    3      3\n",
      "d    4      4\n"
     ]
    }
   ],
   "source": [
    "del table['one']\n",
    "print(table)\n"
   ]
  },
  {
   "cell_type": "code",
   "execution_count": 95,
   "metadata": {},
   "outputs": [
    {
     "name": "stdout",
     "output_type": "stream",
     "text": [
      "a    1\n",
      "b    2\n",
      "c    3\n",
      "d    4\n",
      "Name: two, dtype: int64\n"
     ]
    }
   ],
   "source": [
    "print(table.pop('two'))"
   ]
  },
  {
   "cell_type": "code",
   "execution_count": null,
   "metadata": {},
   "outputs": [],
   "source": []
  },
  {
   "cell_type": "code",
   "execution_count": 96,
   "metadata": {},
   "outputs": [],
   "source": [
    "#Dataframe Row selection"
   ]
  },
  {
   "cell_type": "code",
   "execution_count": 97,
   "metadata": {},
   "outputs": [
    {
     "name": "stdout",
     "output_type": "stream",
     "text": [
      "   three\n",
      "a      1\n",
      "b      2\n",
      "c      3\n",
      "d      4\n"
     ]
    }
   ],
   "source": [
    "print(table1)"
   ]
  },
  {
   "cell_type": "code",
   "execution_count": 98,
   "metadata": {},
   "outputs": [
    {
     "name": "stdout",
     "output_type": "stream",
     "text": [
      "   three\n",
      "a      1\n",
      "b      2\n",
      "c      3\n",
      "d      4\n"
     ]
    }
   ],
   "source": [
    "print(table)"
   ]
  },
  {
   "cell_type": "code",
   "execution_count": 99,
   "metadata": {},
   "outputs": [
    {
     "name": "stdout",
     "output_type": "stream",
     "text": [
      "   one  two  three\n",
      "a  1.0    1      1\n",
      "b  2.0    2      2\n",
      "c  3.0    3      3\n",
      "d  NaN    4      4\n"
     ]
    }
   ],
   "source": [
    "#To add extra dataframe to existing dataframe.\n",
    "data = {'one':pd.Series([1,2,3],index=['a','b','c']),\n",
    "        'two':pd.Series([1,2,3,4],index = ['a','b','c','d'])}\n",
    "table_one = pd.DataFrame(data)\n",
    "table_one['three']=pd.Series([1,2,3,4,5] ,index=['a','b','c','d','e'])\n",
    "print(table_one)"
   ]
  },
  {
   "cell_type": "code",
   "execution_count": 101,
   "metadata": {},
   "outputs": [
    {
     "data": {
      "text/html": [
       "<div>\n",
       "<style scoped>\n",
       "    .dataframe tbody tr th:only-of-type {\n",
       "        vertical-align: middle;\n",
       "    }\n",
       "\n",
       "    .dataframe tbody tr th {\n",
       "        vertical-align: top;\n",
       "    }\n",
       "\n",
       "    .dataframe thead th {\n",
       "        text-align: right;\n",
       "    }\n",
       "</style>\n",
       "<table border=\"1\" class=\"dataframe\">\n",
       "  <thead>\n",
       "    <tr style=\"text-align: right;\">\n",
       "      <th></th>\n",
       "      <th>one</th>\n",
       "      <th>two</th>\n",
       "      <th>three</th>\n",
       "    </tr>\n",
       "  </thead>\n",
       "  <tbody>\n",
       "  </tbody>\n",
       "</table>\n",
       "</div>"
      ],
      "text/plain": [
       "Empty DataFrame\n",
       "Columns: [one, two, three]\n",
       "Index: []"
      ]
     },
     "execution_count": 101,
     "metadata": {},
     "output_type": "execute_result"
    }
   ],
   "source": [
    "table_one.iloc[1:0]"
   ]
  },
  {
   "cell_type": "code",
   "execution_count": 104,
   "metadata": {},
   "outputs": [
    {
     "name": "stdout",
     "output_type": "stream",
     "text": [
      "one      3.0\n",
      "two      3.0\n",
      "three    3.0\n",
      "Name: c, dtype: float64\n"
     ]
    }
   ],
   "source": [
    "#Row label selection using loc function\n",
    "print(table_one.loc['c'])"
   ]
  },
  {
   "cell_type": "code",
   "execution_count": 105,
   "metadata": {},
   "outputs": [
    {
     "name": "stdout",
     "output_type": "stream",
     "text": [
      "one      2.0\n",
      "two      2.0\n",
      "three    2.0\n",
      "Name: b, dtype: float64\n"
     ]
    }
   ],
   "source": [
    "print(table_one.loc['b'])"
   ]
  },
  {
   "cell_type": "code",
   "execution_count": 106,
   "metadata": {},
   "outputs": [],
   "source": [
    "#Row index selection using iloc "
   ]
  },
  {
   "cell_type": "code",
   "execution_count": 107,
   "metadata": {},
   "outputs": [
    {
     "name": "stdout",
     "output_type": "stream",
     "text": [
      "one      3.0\n",
      "two      3.0\n",
      "three    3.0\n",
      "Name: c, dtype: float64\n"
     ]
    }
   ],
   "source": [
    "print(table_one.iloc[2])"
   ]
  },
  {
   "cell_type": "code",
   "execution_count": 111,
   "metadata": {},
   "outputs": [
    {
     "name": "stdout",
     "output_type": "stream",
     "text": [
      "   one  two  three\n",
      "a  1.0    1      1\n",
      "b  2.0    2      2\n",
      "c  3.0    3      3\n",
      "d  NaN    4      4\n",
      "   one  two  three\n",
      "a  1.0    1      1\n",
      "b  2.0    2      2\n",
      "c  3.0    3      3\n",
      "d  NaN    4      4\n",
      "0  NaN    0      0\n",
      "1  NaN   11     13\n",
      "2  NaN   17     19\n"
     ]
    }
   ],
   "source": [
    "#To add extra row to existing dataframe.\n",
    "data = {'one':pd.Series([1,2,3],index=['a','b','c']),\n",
    "        'two':pd.Series([1,2,3,4],index = ['a','b','c','d'])}\n",
    "table_one = pd.DataFrame(data)\n",
    "table_one['three']=pd.Series([1,2,3,4,5] ,index=['a','b','c','d','e'])\n",
    "print(table_one)\n",
    "row = pd.DataFrame([[0,0],[11,13],[17,19]],columns = ['two','three'])\n",
    "table_one = table_one.append(row)\n",
    "print(table_one)"
   ]
  },
  {
   "cell_type": "code",
   "execution_count": 1,
   "metadata": {},
   "outputs": [],
   "source": [
    "# Basic functionlity of dataframe"
   ]
  },
  {
   "cell_type": "code",
   "execution_count": 25,
   "metadata": {},
   "outputs": [
    {
     "name": "stdout",
     "output_type": "stream",
     "text": [
      "Odd numbers : [ 1  3  5  7  9 11 13 15 17 19 21 23 25 27 29 31 33 35 37 39 41 43 45 47\n",
      " 49 51 53 55 57 59 61 63 65 67 69 71 73 75 77 79 81 83 85 87 89 91 93 95\n",
      " 97 99]\n",
      "Even Numbers : [ 0  2  4  6  8 10 12 14 16 18 20 22 24 26 28 30 32 34 36 38 40 42 44 46\n",
      " 48 50 52 54 56 58 60 62 64 66 68 70 72 74 76 78 80 82 84 86 88 90 92 94\n",
      " 96 98]\n",
      "Sum: odd     2500\n",
      "even    2450\n",
      "dtype: int64\n"
     ]
    }
   ],
   "source": [
    "data = {'odd':np.arange(1,100,2),\n",
    "        'even':np.arange(0,100,2)}\n",
    "print('Odd numbers :',data['odd'])\n",
    "print('Even Numbers :',data['even'])\n",
    "df = pd.DataFrame(data)\n",
    "print('Sum:',df.sum())"
   ]
  },
  {
   "cell_type": "code",
   "execution_count": null,
   "metadata": {},
   "outputs": [],
   "source": []
  },
  {
   "cell_type": "code",
   "execution_count": 26,
   "metadata": {},
   "outputs": [
    {
     "name": "stdout",
     "output_type": "stream",
     "text": [
      "column1 0    0.445326\n",
      "1    0.542606\n",
      "2    0.968612\n",
      "3    0.820049\n",
      "4    0.840092\n",
      "Name: column1, dtype: float64\n",
      "column2 0    0.141849\n",
      "1    0.327482\n",
      "2    0.185807\n",
      "3    0.471064\n",
      "4    0.249987\n",
      "Name: column2, dtype: float64\n",
      "column3 0    0.670404\n",
      "1    0.790062\n",
      "2    0.457740\n",
      "3    0.701972\n",
      "4    0.982666\n",
      "Name: column3, dtype: float64\n",
      "column4 0    0.226297\n",
      "1    0.825806\n",
      "2    0.055525\n",
      "3    0.275991\n",
      "4    0.305251\n",
      "Name: column4, dtype: float64\n"
     ]
    }
   ],
   "source": [
    "df1 = pd.DataFrame(np.random.rand(5,4),\n",
    "                  columns =['column1','column2','column3','column4'])\n",
    "for key ,value in df1.iteritems():\n",
    "    print(key,value)\n"
   ]
  },
  {
   "cell_type": "code",
   "execution_count": 11,
   "metadata": {},
   "outputs": [],
   "source": [
    "#Iterrow"
   ]
  },
  {
   "cell_type": "code",
   "execution_count": 12,
   "metadata": {},
   "outputs": [
    {
     "name": "stdout",
     "output_type": "stream",
     "text": [
      "0 column1    0.255575\n",
      "column2    0.327516\n",
      "column3    0.349177\n",
      "column4    0.414610\n",
      "Name: 0, dtype: float64\n",
      "1 column1    0.637813\n",
      "column2    0.043160\n",
      "column3    0.600397\n",
      "column4    0.197035\n",
      "Name: 1, dtype: float64\n",
      "2 column1    0.243940\n",
      "column2    0.498057\n",
      "column3    0.190947\n",
      "column4    0.683954\n",
      "Name: 2, dtype: float64\n",
      "3 column1    0.305907\n",
      "column2    0.538189\n",
      "column3    0.594118\n",
      "column4    0.501087\n",
      "Name: 3, dtype: float64\n",
      "4 column1    0.817176\n",
      "column2    0.290002\n",
      "column3    0.119360\n",
      "column4    0.426930\n",
      "Name: 4, dtype: float64\n"
     ]
    }
   ],
   "source": [
    "for key , val in df1.iterrows():\n",
    "    print(key,val)\n",
    "    "
   ]
  },
  {
   "cell_type": "code",
   "execution_count": 13,
   "metadata": {},
   "outputs": [],
   "source": [
    "#itertuples"
   ]
  },
  {
   "cell_type": "code",
   "execution_count": 14,
   "metadata": {},
   "outputs": [
    {
     "name": "stdout",
     "output_type": "stream",
     "text": [
      "Pandas(Index=0, odd=1, even=0)\n",
      "Pandas(Index=1, odd=3, even=2)\n",
      "Pandas(Index=2, odd=5, even=4)\n",
      "Pandas(Index=3, odd=7, even=6)\n",
      "Pandas(Index=4, odd=9, even=8)\n",
      "Pandas(Index=5, odd=11, even=10)\n",
      "Pandas(Index=6, odd=13, even=12)\n",
      "Pandas(Index=7, odd=15, even=14)\n",
      "Pandas(Index=8, odd=17, even=16)\n",
      "Pandas(Index=9, odd=19, even=18)\n",
      "Pandas(Index=10, odd=21, even=20)\n",
      "Pandas(Index=11, odd=23, even=22)\n",
      "Pandas(Index=12, odd=25, even=24)\n",
      "Pandas(Index=13, odd=27, even=26)\n",
      "Pandas(Index=14, odd=29, even=28)\n",
      "Pandas(Index=15, odd=31, even=30)\n",
      "Pandas(Index=16, odd=33, even=32)\n",
      "Pandas(Index=17, odd=35, even=34)\n",
      "Pandas(Index=18, odd=37, even=36)\n",
      "Pandas(Index=19, odd=39, even=38)\n",
      "Pandas(Index=20, odd=41, even=40)\n",
      "Pandas(Index=21, odd=43, even=42)\n",
      "Pandas(Index=22, odd=45, even=44)\n",
      "Pandas(Index=23, odd=47, even=46)\n",
      "Pandas(Index=24, odd=49, even=48)\n",
      "Pandas(Index=25, odd=51, even=50)\n",
      "Pandas(Index=26, odd=53, even=52)\n",
      "Pandas(Index=27, odd=55, even=54)\n",
      "Pandas(Index=28, odd=57, even=56)\n",
      "Pandas(Index=29, odd=59, even=58)\n",
      "Pandas(Index=30, odd=61, even=60)\n",
      "Pandas(Index=31, odd=63, even=62)\n",
      "Pandas(Index=32, odd=65, even=64)\n",
      "Pandas(Index=33, odd=67, even=66)\n",
      "Pandas(Index=34, odd=69, even=68)\n",
      "Pandas(Index=35, odd=71, even=70)\n",
      "Pandas(Index=36, odd=73, even=72)\n",
      "Pandas(Index=37, odd=75, even=74)\n",
      "Pandas(Index=38, odd=77, even=76)\n",
      "Pandas(Index=39, odd=79, even=78)\n",
      "Pandas(Index=40, odd=81, even=80)\n",
      "Pandas(Index=41, odd=83, even=82)\n",
      "Pandas(Index=42, odd=85, even=84)\n",
      "Pandas(Index=43, odd=87, even=86)\n",
      "Pandas(Index=44, odd=89, even=88)\n",
      "Pandas(Index=45, odd=91, even=90)\n",
      "Pandas(Index=46, odd=93, even=92)\n",
      "Pandas(Index=47, odd=95, even=94)\n",
      "Pandas(Index=48, odd=97, even=96)\n",
      "Pandas(Index=49, odd=99, even=98)\n"
     ]
    }
   ],
   "source": [
    "for row in df.itertuples():\n",
    "    print(row)"
   ]
  },
  {
   "cell_type": "code",
   "execution_count": 15,
   "metadata": {},
   "outputs": [
    {
     "name": "stdout",
     "output_type": "stream",
     "text": [
      "           Team  Rank  Year\n",
      "0   West indies     7  1975\n",
      "1   West indies     7  1979\n",
      "2         India     2  1983\n",
      "3    Australlia     1  1987\n",
      "4      Pakistan     6  1992\n",
      "5      Srilanka     4  1996\n",
      "6    Australlia     1  1999\n",
      "7    Australlia     1  2003\n",
      "8    Australlia     1  2007\n",
      "9         Insia     2  2011\n",
      "10   Australlia     1  2015\n"
     ]
    }
   ],
   "source": [
    "#world cup \n",
    "world_cup ={'Team':['West indies','West indies','India','Australlia','Pakistan','Srilanka',\n",
    "                    'Australlia','Australlia','Australlia','Insia','Australlia'],\n",
    "            'Rank':[7,7,2,1,6,4,1,1,1,2,1],\n",
    "            'Year':[1975,1979,1983,1987,1992,1996,1999,2003,2007,2011,2015]}\n",
    "df = pd.DataFrame(world_cup)\n",
    "print(df)"
   ]
  },
  {
   "cell_type": "code",
   "execution_count": 16,
   "metadata": {},
   "outputs": [
    {
     "name": "stdout",
     "output_type": "stream",
     "text": [
      "{'Australlia': Int64Index([3, 6, 7, 8, 10], dtype='int64'), 'India': Int64Index([2], dtype='int64'), 'Insia': Int64Index([9], dtype='int64'), 'Pakistan': Int64Index([4], dtype='int64'), 'Srilanka': Int64Index([5], dtype='int64'), 'West indies': Int64Index([0, 1], dtype='int64')}\n"
     ]
    }
   ],
   "source": [
    "#Dataframe is group according to Team\n",
    "print(df.groupby('Team').groups)"
   ]
  },
  {
   "cell_type": "code",
   "execution_count": 17,
   "metadata": {},
   "outputs": [],
   "source": [
    "#Dataframe is group according to Team & Rank"
   ]
  },
  {
   "cell_type": "code",
   "execution_count": 18,
   "metadata": {},
   "outputs": [
    {
     "name": "stdout",
     "output_type": "stream",
     "text": [
      "{('Australlia', 1): Int64Index([3, 6, 7, 8, 10], dtype='int64'), ('India', 2): Int64Index([2], dtype='int64'), ('Insia', 2): Int64Index([9], dtype='int64'), ('Pakistan', 6): Int64Index([4], dtype='int64'), ('Srilanka', 4): Int64Index([5], dtype='int64'), ('West indies', 7): Int64Index([0, 1], dtype='int64')}\n"
     ]
    }
   ],
   "source": [
    "print(df.groupby(['Team','Rank']).groups)"
   ]
  },
  {
   "cell_type": "code",
   "execution_count": 19,
   "metadata": {},
   "outputs": [],
   "source": [
    "#groups can be iterable"
   ]
  },
  {
   "cell_type": "code",
   "execution_count": 21,
   "metadata": {},
   "outputs": [
    {
     "name": "stdout",
     "output_type": "stream",
     "text": [
      "Australlia\n",
      "India\n",
      "Insia\n",
      "Pakistan\n",
      "Srilanka\n",
      "West indies\n"
     ]
    }
   ],
   "source": [
    "grouped = df.groupby('Team')\n",
    "for name , group in grouped:\n",
    "    print(name)"
   ]
  },
  {
   "cell_type": "code",
   "execution_count": 22,
   "metadata": {},
   "outputs": [],
   "source": [
    "#single group can be select"
   ]
  },
  {
   "cell_type": "code",
   "execution_count": 23,
   "metadata": {},
   "outputs": [
    {
     "name": "stdout",
     "output_type": "stream",
     "text": [
      "    Team  Rank  Year\n",
      "2  India     2  1983\n"
     ]
    }
   ],
   "source": [
    "print(grouped.get_group('India'))"
   ]
  },
  {
   "cell_type": "code",
   "execution_count": 24,
   "metadata": {},
   "outputs": [
    {
     "name": "stdout",
     "output_type": "stream",
     "text": [
      "          Team  Rank  Year\n",
      "3   Australlia     1  1987\n",
      "6   Australlia     1  1999\n",
      "7   Australlia     1  2003\n",
      "8   Australlia     1  2007\n",
      "10  Australlia     1  2015\n"
     ]
    }
   ],
   "source": [
    "print(grouped.get_group('Australlia'))"
   ]
  },
  {
   "cell_type": "code",
   "execution_count": null,
   "metadata": {},
   "outputs": [],
   "source": []
  }
 ],
 "metadata": {
  "kernelspec": {
   "display_name": "Python 3",
   "language": "python",
   "name": "python3"
  },
  "language_info": {
   "codemirror_mode": {
    "name": "ipython",
    "version": 3
   },
   "file_extension": ".py",
   "mimetype": "text/x-python",
   "name": "python",
   "nbconvert_exporter": "python",
   "pygments_lexer": "ipython3",
   "version": "3.7.6"
  }
 },
 "nbformat": 4,
 "nbformat_minor": 4
}
