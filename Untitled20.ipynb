{
 "cells": [
  {
   "cell_type": "code",
   "execution_count": 4,
   "metadata": {},
   "outputs": [],
   "source": [
    "import sys\n"
   ]
  },
  {
   "cell_type": "code",
   "execution_count": 5,
   "metadata": {},
   "outputs": [
    {
     "name": "stdout",
     "output_type": "stream",
     "text": [
      "3.7.3 (default, Apr 24 2019, 15:29:51) [MSC v.1915 64 bit (AMD64)]\n"
     ]
    }
   ],
   "source": [
    "print(sys.version)"
   ]
  },
  {
   "cell_type": "code",
   "execution_count": 6,
   "metadata": {},
   "outputs": [
    {
     "name": "stdout",
     "output_type": "stream",
     "text": [
      "3D Objects\n",
      "AppData\n",
      "Application Data\n",
      "Contacts\n",
      "Cookies\n",
      "Desktop\n",
      "Documents\n",
      "Downloads\n",
      "Favorites\n",
      "IntelGraphicsProfiles\n",
      "Links\n",
      "Local Settings\n",
      "MicrosoftEdgeBackups\n",
      "Music\n",
      "My Documents\n",
      "NTUSER.DAT\n",
      "NTUSER.DAT{dac87377-62fb-11ea-9590-9d4b54315037}.TM.blf\n",
      "NTUSER.DAT{dac87377-62fb-11ea-9590-9d4b54315037}.TMContainer00000000000000000001.regtrans-ms\n",
      "NTUSER.DAT{dac87377-62fb-11ea-9590-9d4b54315037}.TMContainer00000000000000000002.regtrans-ms\n",
      "NetHood\n",
      "OneDrive\n",
      "PrintHood\n",
      "Recent\n",
      "Saved Games\n",
      "Searches\n",
      "SendTo\n",
      "Start Menu\n",
      "Templates\n",
      "Timeseries_line_charts.ipynb\n",
      "Untitled.ipynb\n",
      "Untitled1.ipynb\n",
      "Untitled10.ipynb\n",
      "Untitled11.ipynb\n",
      "Untitled12.ipynb\n",
      "Untitled13.ipynb\n",
      "Untitled14.ipynb\n",
      "Untitled15.ipynb\n",
      "Untitled16.ipynb\n",
      "Untitled17.ipynb\n",
      "Untitled18.ipynb\n",
      "Untitled19.ipynb\n",
      "Untitled2.ipynb\n",
      "Untitled20.ipynb\n",
      "Untitled3.ipynb\n",
      "Untitled4.ipynb\n",
      "Untitled5.ipynb\n",
      "Untitled6.ipynb\n",
      "Untitled7.ipynb\n",
      "Untitled8.ipynb\n",
      "Untitled9.ipynb\n",
      "Videos\n",
      "__init__.py\n",
      "__main__.py\n",
      "bambolibdemo.ipynb\n",
      "bargraph_demo.ipynb\n",
      "build-first-data-visualization-matplotlib.ipynb\n",
      "cli.py\n",
      "config.py\n",
      "data-school-tips.ipynb\n",
      "datacleaning_preprocessing.ipynb\n",
      "datavisualization.ipynb\n",
      "environment.py\n",
      "exceptions.py\n",
      "exported_img.png\n",
      "extensions.py\n",
      "find.py\n",
      "generate.py\n",
      "hackerrank_examples.ipynb\n",
      "hooks.py\n",
      "iterator-imputer.ipynb\n",
      "linkedin-data-visualization.ipynb\n",
      "linkedin_tips.ipynb\n",
      "log.py\n",
      "main.py\n",
      "nestedlist-Copy1.ipynb\n",
      "nestedlist.ipynb\n",
      "ntuser.dat.LOG1\n",
      "ntuser.dat.LOG2\n",
      "ntuser.ini\n",
      "one-hot-encoding-demo.ipynb\n",
      "pandas_fundamentals.ipynb\n",
      "pipline-methods.ipynb\n",
      "prompt.py\n",
      "python_w3schools_exmples.ipynb\n",
      "python_w3schools_exmples1.ipynb\n",
      "replay.py\n",
      "repository.py\n",
      "timeseries_gdpgrowth_datavisualization.ipynb\n",
      "timeseries_population_datavisualization.ipynb\n",
      "type_conversion.ipynb\n",
      "vcs.py\n",
      "zipfile.py\n"
     ]
    }
   ],
   "source": [
    "!ls"
   ]
  },
  {
   "cell_type": "code",
   "execution_count": null,
   "metadata": {},
   "outputs": [],
   "source": []
  }
 ],
 "metadata": {
  "kernelspec": {
   "display_name": "Python 3",
   "language": "python",
   "name": "python3"
  },
  "language_info": {
   "codemirror_mode": {
    "name": "ipython",
    "version": 3
   },
   "file_extension": ".py",
   "mimetype": "text/x-python",
   "name": "python",
   "nbconvert_exporter": "python",
   "pygments_lexer": "ipython3",
   "version": "3.7.3"
  }
 },
 "nbformat": 4,
 "nbformat_minor": 2
}
