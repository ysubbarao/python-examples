{
 "cells": [
  {
   "cell_type": "code",
   "execution_count": 1,
   "metadata": {},
   "outputs": [
    {
     "name": "stdout",
     "output_type": "stream",
     "text": [
      "Collecting ibm_watson\n",
      "  Downloading ibm-watson-4.7.1.tar.gz (385 kB)\n",
      "Requirement already satisfied: requests<3.0,>=2.0 in c:\\programdata\\anaconda3\\lib\\site-packages (from ibm_watson) (2.24.0)\n",
      "Requirement already satisfied: python_dateutil>=2.5.3 in c:\\programdata\\anaconda3\\lib\\site-packages (from ibm_watson) (2.8.1)\n",
      "Collecting websocket-client==0.48.0\n",
      "  Downloading websocket_client-0.48.0-py2.py3-none-any.whl (198 kB)\n",
      "Collecting ibm_cloud_sdk_core==1.7.3\n",
      "  Downloading ibm-cloud-sdk-core-1.7.3.tar.gz (27 kB)\n",
      "Requirement already satisfied: chardet<4,>=3.0.2 in c:\\programdata\\anaconda3\\lib\\site-packages (from requests<3.0,>=2.0->ibm_watson) (3.0.4)\n",
      "Requirement already satisfied: certifi>=2017.4.17 in c:\\programdata\\anaconda3\\lib\\site-packages (from requests<3.0,>=2.0->ibm_watson) (2020.6.20)\n",
      "Requirement already satisfied: urllib3!=1.25.0,!=1.25.1,<1.26,>=1.21.1 in c:\\programdata\\anaconda3\\lib\\site-packages (from requests<3.0,>=2.0->ibm_watson) (1.25.11)\n",
      "Requirement already satisfied: idna<3,>=2.5 in c:\\programdata\\anaconda3\\lib\\site-packages (from requests<3.0,>=2.0->ibm_watson) (2.10)\n",
      "Requirement already satisfied: six>=1.5 in c:\\programdata\\anaconda3\\lib\\site-packages (from python_dateutil>=2.5.3->ibm_watson) (1.15.0)\n",
      "Collecting PyJWT>=1.7.1\n",
      "  Using cached PyJWT-1.7.1-py2.py3-none-any.whl (18 kB)\n",
      "Building wheels for collected packages: ibm-watson, ibm-cloud-sdk-core\n",
      "  Building wheel for ibm-watson (setup.py): started\n",
      "  Building wheel for ibm-watson (setup.py): finished with status 'done'\n",
      "  Created wheel for ibm-watson: filename=ibm_watson-4.7.1-py3-none-any.whl size=379135 sha256=9109a8f2072930115523efb4ff67ce4954f533ebbda20fb45439fa9081bbf3db\n",
      "  Stored in directory: c:\\users\\subbu\\appdata\\local\\pip\\cache\\wheels\\d1\\4f\\81\\0101a1b7978cb74cc02ea6eed0c34f2349cfa07c0e82f4f151\n",
      "  Building wheel for ibm-cloud-sdk-core (setup.py): started\n",
      "  Building wheel for ibm-cloud-sdk-core (setup.py): finished with status 'done'\n",
      "Note: you may need to restart the kernel to use updated packages.  Created wheel for ibm-cloud-sdk-core: filename=ibm_cloud_sdk_core-1.7.3-py3-none-any.whl size=45946 sha256=b966ee43abb683f6b88cad1875f7bea7918817629036dacb0034325d4de6a812\n",
      "  Stored in directory: c:\\users\\subbu\\appdata\\local\\pip\\cache\\wheels\\7f\\b2\\0c\\e98142cc63c7b835ee3bacb64806c2669dda0a30442d09e43e\n",
      "\n",
      "Successfully built ibm-watson ibm-cloud-sdk-core\n",
      "Installing collected packages: websocket-client, PyJWT, ibm-cloud-sdk-core, ibm-watson\n",
      "Successfully installed PyJWT-1.7.1 ibm-cloud-sdk-core-1.7.3 ibm-watson-4.7.1 websocket-client-0.48.0\n"
     ]
    }
   ],
   "source": [
    "pip install ibm_watson"
   ]
  },
  {
   "cell_type": "code",
   "execution_count": 2,
   "metadata": {},
   "outputs": [
    {
     "name": "stdout",
     "output_type": "stream",
     "text": [
      "Requirement already satisfied: ibm_cloud_sdk_core in c:\\programdata\\anaconda3\\lib\\site-packages (1.7.3)\n",
      "Requirement already satisfied: PyJWT>=1.7.1 in c:\\programdata\\anaconda3\\lib\\site-packages (from ibm_cloud_sdk_core) (1.7.1)\n",
      "Requirement already satisfied: requests<3.0,>=2.0 in c:\\programdata\\anaconda3\\lib\\site-packages (from ibm_cloud_sdk_core) (2.24.0)\n",
      "Requirement already satisfied: python-dateutil>=2.5.3 in c:\\programdata\\anaconda3\\lib\\site-packages (from ibm_cloud_sdk_core) (2.8.1)\n",
      "Requirement already satisfied: urllib3!=1.25.0,!=1.25.1,<1.26,>=1.21.1 in c:\\programdata\\anaconda3\\lib\\site-packages (from requests<3.0,>=2.0->ibm_cloud_sdk_core) (1.25.11)\n",
      "Requirement already satisfied: idna<3,>=2.5 in c:\\programdata\\anaconda3\\lib\\site-packages (from requests<3.0,>=2.0->ibm_cloud_sdk_core) (2.10)\n",
      "Requirement already satisfied: chardet<4,>=3.0.2 in c:\\programdata\\anaconda3\\lib\\site-packages (from requests<3.0,>=2.0->ibm_cloud_sdk_core) (3.0.4)\n",
      "Requirement already satisfied: certifi>=2017.4.17 in c:\\programdata\\anaconda3\\lib\\site-packages (from requests<3.0,>=2.0->ibm_cloud_sdk_core) (2020.6.20)\n",
      "Requirement already satisfied: six>=1.5 in c:\\programdata\\anaconda3\\lib\\site-packages (from python-dateutil>=2.5.3->ibm_cloud_sdk_core) (1.15.0)\n",
      "Note: you may need to restart the kernel to use updated packages.\n"
     ]
    }
   ],
   "source": [
    "pip install ibm_cloud_sdk_core"
   ]
  },
  {
   "cell_type": "code",
   "execution_count": 3,
   "metadata": {},
   "outputs": [],
   "source": [
    "from ibm_watson import TextToSpeechV1"
   ]
  },
  {
   "cell_type": "code",
   "execution_count": 5,
   "metadata": {},
   "outputs": [],
   "source": [
    "from ibm_cloud_sdk_core.authenticators import IAMAuthenticator"
   ]
  },
  {
   "cell_type": "code",
   "execution_count": 6,
   "metadata": {},
   "outputs": [],
   "source": [
    "api = IAMAuthenticator(\"4ZrjXOjo-io8jmNrAuxluajhx0X2kBbnjJL3BfMppcl7\")"
   ]
  },
  {
   "cell_type": "code",
   "execution_count": 7,
   "metadata": {},
   "outputs": [],
   "source": [
    "text2speech = TextToSpeechV1(authenticator=api)"
   ]
  },
  {
   "cell_type": "code",
   "execution_count": 8,
   "metadata": {},
   "outputs": [],
   "source": [
    "text2speech.set_service_url(\"https://api.eu-gb.text-to-speech.watson.cloud.ibm.com/instances/1c6cad72-7ec7-4ea8-ace8-16f721913972\")"
   ]
  },
  {
   "cell_type": "code",
   "execution_count": 11,
   "metadata": {},
   "outputs": [],
   "source": [
    "with open('welcome.mp3', 'wb') as audiofile:\n",
    "    audiofile.write(text2speech.synthesize('Hello how r u,Please here my words',accept='audio/mp3').get_result().content)"
   ]
  },
  {
   "cell_type": "code",
   "execution_count": null,
   "metadata": {},
   "outputs": [],
   "source": []
  }
 ],
 "metadata": {
  "kernelspec": {
   "display_name": "Python 3",
   "language": "python",
   "name": "python3"
  },
  "language_info": {
   "codemirror_mode": {
    "name": "ipython",
    "version": 3
   },
   "file_extension": ".py",
   "mimetype": "text/x-python",
   "name": "python",
   "nbconvert_exporter": "python",
   "pygments_lexer": "ipython3",
   "version": "3.8.5"
  }
 },
 "nbformat": 4,
 "nbformat_minor": 4
}
