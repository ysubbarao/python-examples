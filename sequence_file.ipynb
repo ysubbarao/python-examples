{
 "cells": [
  {
   "cell_type": "code",
   "execution_count": 14,
   "metadata": {},
   "outputs": [],
   "source": [
    "import base64  #used for encoding"
   ]
  },
  {
   "cell_type": "code",
   "execution_count": 32,
   "metadata": {},
   "outputs": [
    {
     "name": "stdout",
     "output_type": "stream",
     "text": [
      "Enter Reference ID: 123456789012\n"
     ]
    }
   ],
   "source": [
    "# Read the input from command line.even Allow some special characters in ReferenceID\n",
    "refId = input ('Enter Reference ID: ')\n",
    "if(len(refId) != 12):\n",
    "    print(\"Reference ID should be 12 characters\")\n"
   ]
  },
  {
   "cell_type": "code",
   "execution_count": 33,
   "metadata": {},
   "outputs": [],
   "source": [
    "#list of charecters allowed \n",
    "allowed_char = 'ABCDEFGHIJKLMNOPQRSTUVWXYZ' +'abcdefghijklmnopqrstuvwxyz'+'0123456789'\n",
    "\n",
    "isvalidate = True"
   ]
  },
  {
   "cell_type": "code",
   "execution_count": 34,
   "metadata": {},
   "outputs": [],
   "source": [
    "for a in refId:\n",
    "    if (a not in allowed_char):\n",
    "        isvalidate =False\n",
    "        break"
   ]
  },
  {
   "cell_type": "code",
   "execution_count": 35,
   "metadata": {},
   "outputs": [
    {
     "name": "stdout",
     "output_type": "stream",
     "text": [
      "isvalidated : True\n"
     ]
    }
   ],
   "source": [
    "print('isvalidated :',isvalidate)\n",
    "if not isvalidate:\n",
    "    print('Reference id should contain only numbers and alphabets. ')"
   ]
  },
  {
   "cell_type": "code",
   "execution_count": 36,
   "metadata": {},
   "outputs": [
    {
     "name": "stdout",
     "output_type": "stream",
     "text": [
      "Congratulation !!! ,Reference Id encrypted .you are safe from Hackers.  b'\\xd7m\\xf8\\xe7\\xae\\xfc\\xf7Mv'\n"
     ]
    }
   ],
   "source": [
    "#Encrypt reference id:\n",
    "refId_encode = base64.b64decode(refId.encode())\n",
    "print('Congratulation !!! ,Reference Id encrypted .you are safe from Hackers. ',refId_encode)"
   ]
  },
  {
   "cell_type": "code",
   "execution_count": null,
   "metadata": {},
   "outputs": [],
   "source": []
  }
 ],
 "metadata": {
  "kernelspec": {
   "display_name": "Python 3",
   "language": "python",
   "name": "python3"
  },
  "language_info": {
   "codemirror_mode": {
    "name": "ipython",
    "version": 3
   },
   "file_extension": ".py",
   "mimetype": "text/x-python",
   "name": "python",
   "nbconvert_exporter": "python",
   "pygments_lexer": "ipython3",
   "version": "3.7.6"
  }
 },
 "nbformat": 4,
 "nbformat_minor": 4
}
